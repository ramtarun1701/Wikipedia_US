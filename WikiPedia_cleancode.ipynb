{
 "cells": [
  {
   "cell_type": "markdown",
   "id": "35fb6f42-ff77-41cc-8282-91734cf62908",
   "metadata": {},
   "source": [
    "# IMPORTING THE REQUIRED LIBRARIES"
   ]
  },
  {
   "cell_type": "code",
   "execution_count": null,
   "id": "c2e98665-1dd6-4334-b798-0d8dfb87be2e",
   "metadata": {},
   "outputs": [],
   "source": [
    "import requests\n",
    "from bs4 import BeautifulSoup as bs\n",
    "import pandas as pd"
   ]
  },
  {
   "cell_type": "code",
   "execution_count": null,
   "id": "de1d9fbf-9d7e-4bb4-b802-61da1701d028",
   "metadata": {},
   "outputs": [],
   "source": [
    "url=\"https://en.wikipedia.org/wiki/List_of_states_and_territories_of_the_United_States\" #assigning web site link to an variable"
   ]
  },
  {
   "cell_type": "code",
   "execution_count": null,
   "id": "22338c43-f6a7-4f35-8f3e-09214338ceb5",
   "metadata": {},
   "outputs": [],
   "source": [
    "headers = {\n",
    "    'User-Agent': 'Brave (Windows NT 6.1) AppleWebKit/537.36 (KHTML, like Gecko) Chrome/41.0.2228.0 Safari/537.36'\n",
    "}"
   ]
  },
  {
   "cell_type": "code",
   "execution_count": null,
   "id": "888244dc-dc14-412e-be5e-bcebb3f25073",
   "metadata": {},
   "outputs": [],
   "source": [
    "response=requests.get(url,headers) #requesting website to access data"
   ]
  },
  {
   "cell_type": "code",
   "execution_count": null,
   "id": "e48c187d-15ae-4737-b49f-8997c234ee8a",
   "metadata": {},
   "outputs": [],
   "source": [
    "response #checking the status of the request ex:[200] connected/accepte"
   ]
  },
  {
   "cell_type": "code",
   "execution_count": null,
   "id": "4fbf61b6-0780-48f9-8c93-43c9a813cefe",
   "metadata": {},
   "outputs": [],
   "source": [
    "soup=bs(response.content,'html.parser') #parsing the elemets in html content"
   ]
  },
  {
   "cell_type": "code",
   "execution_count": null,
   "id": "5359948d-545a-4966-94e9-a6d42d7627f8",
   "metadata": {},
   "outputs": [],
   "source": [
    "soup"
   ]
  },
  {
   "cell_type": "code",
   "execution_count": null,
   "id": "8e27f24a-c0b6-4c3a-980a-162c64e99d39",
   "metadata": {},
   "outputs": [],
   "source": [
    "Ques=soup.find_all('span',class_='mw-page-title-main ')  #Printing out the Title of the questions\n",
    "Title='' \n",
    "for i in Ques:\n",
    "    Title=Title+i.text\n",
    "Title    "
   ]
  },
  {
   "cell_type": "code",
   "execution_count": null,
   "id": "3cf669bc-00c9-4dda-b456-90bfd4dddf54",
   "metadata": {},
   "outputs": [],
   "source": [
    "th=soup.find('table',class_=\"wikitable\") #fethcing out table contents\n",
    "th"
   ]
  },
  {
   "cell_type": "code",
   "execution_count": null,
   "id": "303531f5-93fb-4ec5-8e8e-6e0b069b8848",
   "metadata": {},
   "outputs": [],
   "source": [
    "table_head=th.find_all('th') #extracting table headers \n",
    "states=[]\n",
    "for i in table_head:\n",
    "    states.append(i.text.strip())\n",
    "for i in range(0,5):\n",
    "    states.remove(states[i])\n",
    "states=states[5:]"
   ]
  },
  {
   "cell_type": "code",
   "execution_count": null,
   "id": "71de8878-3f52-4f3f-9992-642bb2d9b5a5",
   "metadata": {},
   "outputs": [],
   "source": [
    "data=[] #extracting table data like population and abbrevation\n",
    "for i in th.find_all('td'):\n",
    "    data.append(i.text.strip())\n",
    "print(data.index('Little Rock'))\n",
    "data.insert(18,'None')\n",
    "data.insert(26,'None')\n",
    "data.insert(42,'None')\n",
    "data.insert(74,'None')\n",
    "data.insert(82,'None')\n",
    "data.insert(89,'None')\n",
    "data.insert(106,'None')\n",
    "data.insert(114,'None')\n",
    "data.insert(162,'None')\n",
    "data.insert(186,'None')\n",
    "data.insert(274,'None')\n",
    "data.insert(305,'None')\n",
    "data.insert(329,'None')\n",
    "data.insert(345,'None')\n",
    "data.insert(393,'None')\n",
    "data.insert(282,'None')\n",
    "data.insert(378,'None') "
   ]
  },
  {
   "cell_type": "code",
   "execution_count": null,
   "id": "f7cedce5-6e06-4a67-ab2c-0903750a6497",
   "metadata": {},
   "outputs": [],
   "source": [
    "capitals=data[::8] #extracting abbrevations which are in a patter to appear after every 8th position"
   ]
  },
  {
   "cell_type": "code",
   "execution_count": null,
   "id": "3d2f6caf-8b2b-4040-b495-a2b8e543ee37",
   "metadata": {},
   "outputs": [],
   "source": [
    "capitals"
   ]
  },
  {
   "cell_type": "code",
   "execution_count": null,
   "id": "74dc39c7-0d1b-4678-af0c-b49c66ee968d",
   "metadata": {},
   "outputs": [],
   "source": [
    "Population=data[4::8] #extracting the population starting from 4th inedex to 8 occurance diffrence"
   ]
  },
  {
   "cell_type": "code",
   "execution_count": null,
   "id": "9edf519f-0a2d-47ca-9ac2-41d63439b127",
   "metadata": {},
   "outputs": [],
   "source": [
    "Population"
   ]
  },
  {
   "cell_type": "code",
   "execution_count": null,
   "id": "d359faa8-f7e3-4159-8aed-21e5e3fe8af6",
   "metadata": {},
   "outputs": [],
   "source": [
    "file={                                   #creatingt the dict file for table rows and columns\n",
    "    'States':states,\n",
    "    'Abrrevation':capitals,\n",
    "    'Population':Population     \n",
    "} \n",
    "df=pd.DataFrame(file)\n",
    "csv='U.S Territories.csv'                              #expoting to the contents to csv file conversion\n",
    "df.to_csv(csv, index=False, encoding='utf-8')\n",
    "print('Data Frame has created Successfully')\n",
    " "
   ]
  },
  {
   "cell_type": "code",
   "execution_count": null,
   "id": "f3984c19-5aa4-4fd0-aed4-93e77fe05438",
   "metadata": {},
   "outputs": [],
   "source": [
    "df"
   ]
  },
  {
   "cell_type": "code",
   "execution_count": null,
   "id": "9befaac8-d3e0-4a85-8bfa-c76829fe7169",
   "metadata": {},
   "outputs": [],
   "source": []
  }
 ],
 "metadata": {
  "kernelspec": {
   "display_name": "Python 3 (ipykernel)",
   "language": "python",
   "name": "python3"
  },
  "language_info": {
   "codemirror_mode": {
    "name": "ipython",
    "version": 3
   },
   "file_extension": ".py",
   "mimetype": "text/x-python",
   "name": "python",
   "nbconvert_exporter": "python",
   "pygments_lexer": "ipython3",
   "version": "3.11.7"
  }
 },
 "nbformat": 4,
 "nbformat_minor": 5
}
